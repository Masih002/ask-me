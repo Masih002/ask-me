{
 "cells": [
  {
   "cell_type": "code",
   "execution_count": null,
   "id": "04135180-c8b0-4586-84e3-ad27f607dad2",
   "metadata": {},
   "outputs": [],
   "source": [
    "person_name = 'Gandalf'\n",
    "age = 20\n",
    "age = age + 1\n",
    "wizard_status = True\n",
    "wizard_status = "
   ]
  },
  {
   "cell_type": "code",
   "execution_count": null,
   "id": "a48ff2ff-a6a9-4456-bbe7-51ca7469c1fd",
   "metadata": {},
   "outputs": [],
   "source": [
    "client_id = [0,1,2,3,4] # list type\n",
    "client_names = ['Gandalf','Hand solo','Baby Yoda','Blade runner','Harry Potter'] # a list of strings\n",
    "client_age = [851, 35, 1, -12, 15] # a list of int\n",
    "client_wizard_status = [True, False, False, False, True] # list of booleans"
   ]
  },
  {
   "cell_type": "code",
   "execution_count": 38,
   "id": "eb3b20cd-468d-4580-9a9d-50177f559bd6",
   "metadata": {
    "tags": []
   },
   "outputs": [],
   "source": [
    "import re\n",
    "\n",
    "def mask_email(email):\n",
    "    # Define the regular expression pattern for email addresses\n",
    "    pattern = r'([\\w\\.-]+)@([\\w\\.-]+)(\\.[\\w\\.]+)'\n",
    "    \n",
    "    # Use re.sub() to replace the characters with asterisks\n",
    "    masked_email = re.sub(pattern, r'*****@*****\\3', email)\n",
    "    \n",
    "    return masked_emaildd"
   ]
  },
  {
   "cell_type": "code",
   "execution_count": null,
   "id": "3e9b96fa-a6b0-45f7-909e-988b3fa0a72b",
   "metadata": {},
   "outputs": [],
   "source": []
  }
 ],
 "metadata": {
  "kernelspec": {
   "display_name": "Python 3 (ipykernel)",
   "language": "python",
   "name": "python3"
  },
  "language_info": {
   "codemirror_mode": {
    "name": "ipython",
    "version": 3
   },
   "file_extension": ".py",
   "mimetype": "text/x-python",
   "name": "python",
   "nbconvert_exporter": "python",
   "pygments_lexer": "ipython3",
   "version": "3.11.5"
  }
 },
 "nbformat": 4,
 "nbformat_minor": 5
}
